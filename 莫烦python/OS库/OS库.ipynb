{
 "cells": [
  {
   "cell_type": "code",
   "execution_count": null,
   "metadata": {},
   "outputs": [],
   "source": [
    "import os \n",
    "\n",
    "print(\"当前目录：\", os.getcwd())\n",
    "print(\"当前目录里有什么：\", os.listdir())\n"
   ]
  },
  {
   "cell_type": "code",
   "execution_count": null,
   "metadata": {},
   "outputs": [],
   "source": [
    "if os.path.exists(\"user/mofan\"):\n",
    "    print(\"user exist\")\n",
    "else:\n",
    "    os.makedirs(\"user/mofan\")\n",
    "    print(\"user created\")\n",
    "print(os.listdir(\"user\"))"
   ]
  },
  {
   "cell_type": "code",
   "execution_count": null,
   "metadata": {},
   "outputs": [],
   "source": [
    "if os.path.exists(\"user/mofan\"):\n",
    "    os.removedirs(\"user/mofan\")\n",
    "    print(\"user removed\")\n",
    "else:\n",
    "    print(\"user not exist\")"
   ]
  },
  {
   "cell_type": "code",
   "execution_count": null,
   "metadata": {},
   "outputs": [],
   "source": [
    "import shutil\n",
    "\n",
    "shutil.rmtree(\"user/mofan\")\n",
    "print(os.listdir(\"user\"))"
   ]
  },
  {
   "cell_type": "code",
   "execution_count": null,
   "metadata": {},
   "outputs": [],
   "source": [
    "os.makedirs(\"user/mofan\", exist_ok=True)\n",
    "os.rename(\"user/mofan\", \"user/moguw\")\n",
    "print(os.listdir(\"user\"))\n"
   ]
  },
  {
   "cell_type": "code",
   "execution_count": null,
   "metadata": {},
   "outputs": [],
   "source": [
    "# 判断这是否是一个文件或者是否是一个文件夹\n",
    "import os\n",
    "os.makedirs(\"user/mofan\", exist_ok=True)\n",
    "with open(\"user/mofan/a.txt\", \"w\") as f:\n",
    "    f.write(\"nothing\")\n",
    "print(os.path.isfile(\"user/mofan/a.txt\")) # True\n",
    "print(os.path.exists(\"user/mofan/a.txt\")) # True\n",
    "print(os.path.isdir(\"user/mofan/a.txt\")) # False\n",
    "print(os.path.isdir(\"user/mofan\"))  # True\n"
   ]
  },
  {
   "cell_type": "code",
   "execution_count": null,
   "metadata": {},
   "outputs": [],
   "source": []
  }
 ],
 "metadata": {
  "interpreter": {
   "hash": "61d9e465b1545c1ab2df2e4a6ae97baa909db551982c93e87fe1863f7d12684a"
  },
  "kernelspec": {
   "display_name": "Python 3.10.1 64-bit",
   "language": "python",
   "name": "python3"
  },
  "language_info": {
   "codemirror_mode": {
    "name": "ipython",
    "version": 3
   },
   "file_extension": ".py",
   "mimetype": "text/x-python",
   "name": "python",
   "nbconvert_exporter": "python",
   "pygments_lexer": "ipython3",
   "version": "3.10.1"
  },
  "orig_nbformat": 4
 },
 "nbformat": 4,
 "nbformat_minor": 2
}
