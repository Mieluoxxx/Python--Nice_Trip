{
 "cells": [
  {
   "cell_type": "code",
   "execution_count": null,
   "metadata": {},
   "outputs": [],
   "source": [
    "pattern1 = \"file\"\n",
    "pattern2 = \"files\"\n",
    "string = \"the file is in the folder\"\n",
    "print(\"file in string\", pattern1 in string)   \n",
    "print(\"files in string\", pattern2 in string)"
   ]
  },
  {
   "cell_type": "code",
   "execution_count": null,
   "metadata": {},
   "outputs": [],
   "source": [
    "import re\n",
    "ptn = re.compile(r\"\\w+?@\\w+?\\.com\")\n",
    "\n",
    "matched = ptn.search(\"mofan@mofanpy.com\")\n",
    "print(\"mofan@mofanpy.com is a valid email:\", matched)\n",
    "matched = ptn.search(\"mofan@mofanpy+com\")\n",
    "print(\"mofan@mofanpy+com is a valid email:\", matched)"
   ]
  },
  {
   "cell_type": "code",
   "execution_count": null,
   "metadata": {},
   "outputs": [],
   "source": [
    "# re.search(r\"ran|run\", \"I run to you\")\n",
    "re.search(r\"r[au]n\", \"I run to you\")\n"
   ]
  },
  {
   "cell_type": "code",
   "execution_count": null,
   "metadata": {},
   "outputs": [],
   "source": [
    "import re\n",
    "re.search(r\"\\w+?@\\w+?\\.com\", \"mofan@mofanpy.com\")"
   ]
  },
  {
   "cell_type": "code",
   "execution_count": null,
   "metadata": {},
   "outputs": [],
   "source": [
    "re.search(r\"[\\u4e00-\\u9fa5！？。，￥【】「」]+\", \"我爱莫烦。莫烦棒！\")\n"
   ]
  },
  {
   "cell_type": "code",
   "execution_count": null,
   "metadata": {},
   "outputs": [],
   "source": [
    "print(\"search:\", re.search(r\"run\", \"I run to you\"))\n",
    "print(\"match:\", re.match(r\"run\", \"I run to you\"))\n",
    "print(\"findall:\", re.findall(r\"r[ua]n\", \"I run to you. you ran to him\"))\n",
    "\n",
    "for i in re.finditer(r\"r[ua]n\", \"I run to you. you ran to him\"):\n",
    "    print(\"finditer:\", i)\n",
    "\n",
    "print(\"split:\", re.split(r\"r[ua]n\", \"I run to you. you ran to him\"))\n",
    "print(\"sub:\", re.sub(r\"r[ua]n\", \"jump\", \"I run to you. you ran to him\"))\n",
    "print(\"subn:\", re.subn(r\"r[ua]n\", \"jump\", \"I run to you. you ran to him\"))\n"
   ]
  },
  {
   "cell_type": "code",
   "execution_count": null,
   "metadata": {},
   "outputs": [],
   "source": [
    "string = \"I have 2021-02-01.jpg, 2021-02-02.jpg, 2021-02-03.jpg\"\n",
    "print(\"without ():\", re.findall(r\"[\\w-]+?\\.jpg\", string))\n",
    "print(\"with ():\", re.findall(r\"([\\w-]+?)\\.jpg\", string))"
   ]
  },
  {
   "cell_type": "code",
   "execution_count": null,
   "metadata": {},
   "outputs": [],
   "source": [
    "string = \"I have 2021-02-01.jpg, 2021-02-02.jpg, 2021-02-03.jpg\"\n",
    "match = re.finditer(r\"(\\d+?)-(\\d+?)-(\\d+?)\\.jpg\", string)\n",
    "for file in match:\n",
    "    print(\"matched string:\", file.group(0), \",year:\", file.group(1), \", month:\", file.group(2), \", day:\", file.group(3))\n"
   ]
  },
  {
   "cell_type": "code",
   "execution_count": null,
   "metadata": {},
   "outputs": [],
   "source": [
    "import time\n",
    "n = 1000000\n",
    "# 不提前 compile\n",
    "t0 = time.time()\n",
    "for _ in range(n):\n",
    "    re.search(r\"ran\", \"I ran to you\")\n",
    "t1 = time.time()\n",
    "print(\"不提前 compile 运行时间：\", t1-t0)\n",
    "\n",
    "# 先做 compile\n",
    "ptn = re.compile(r\"ran\")\n",
    "for _ in range(n):\n",
    "    ptn.search(\"I ran to you\")\n",
    "print(\"提前 compile 运行时间：\", time.time()-t1)\n"
   ]
  }
 ],
 "metadata": {
  "interpreter": {
   "hash": "61d9e465b1545c1ab2df2e4a6ae97baa909db551982c93e87fe1863f7d12684a"
  },
  "kernelspec": {
   "display_name": "Python 3.10.1 64-bit",
   "language": "python",
   "name": "python3"
  },
  "language_info": {
   "codemirror_mode": {
    "name": "ipython",
    "version": 3
   },
   "file_extension": ".py",
   "mimetype": "text/x-python",
   "name": "python",
   "nbconvert_exporter": "python",
   "pygments_lexer": "ipython3",
   "version": "3.10.1"
  },
  "orig_nbformat": 4
 },
 "nbformat": 4,
 "nbformat_minor": 2
}
