{
 "cells": [
  {
   "cell_type": "code",
   "execution_count": null,
   "metadata": {},
   "outputs": [],
   "source": [
    "name = \"莫烦Python\"\n",
    "print(\"我的名字是\" + name + \"！\")\n",
    "print(\"我的名字是%s!\" % name)"
   ]
  },
  {
   "cell_type": "code",
   "execution_count": null,
   "metadata": {},
   "outputs": [],
   "source": [
    "name = \"Moguw\"\n",
    "age = 19\n",
    "gender = \"男\"\n",
    "print(\"我的名字是\" + name + \"！我\" + str(age) + \"岁了，我是\" + gender + \"的~\")\n",
    "print(\"我的名字是 %s !我 %d 岁了，我是 %s 的~\" % (name, age, gender))\n"
   ]
  },
  {
   "cell_type": "code",
   "execution_count": null,
   "metadata": {},
   "outputs": [],
   "source": [
    "name = \"Moguw\"\n",
    "age = 19\n",
    "gender = \"男\"\n",
    "print(\"我的名字是 %(nm)s !我 %(age)d 岁了，我是 %(gd)s 的~\" % {\"nm\": name, \"age\":age, \"gd\":gender})\n"
   ]
  },
  {
   "cell_type": "code",
   "execution_count": null,
   "metadata": {},
   "outputs": [],
   "source": [
    "name = \"Moguw\"\n",
    "age = 19\n",
    "height = 1.78\n",
    "print(\"我的名字是 %s !我 %d 岁了，我 %.2f 米高~\" % (name, age, height))"
   ]
  },
  {
   "cell_type": "code",
   "execution_count": null,
   "metadata": {},
   "outputs": [],
   "source": [
    "print(\"%f\" % (1/3))     # 后面不限制\n",
    "print(\"%.2f\" % (1/3))   # 后面限制 2 个位置\n",
    "print(\"%4d\" % (1/3))    # 前面补全最大 4 个位置\n",
    "print(\"%5d\" % 12)       # 前面补全最大 5 个位置"
   ]
  },
  {
   "cell_type": "code",
   "execution_count": null,
   "metadata": {},
   "outputs": [],
   "source": [
    "name = \"Moguw\"\n",
    "age = 19\n",
    "height = 1.78\n",
    "print(\"我的名字是 %s !我 %d 岁了，我 %f 米高~\" % (name, age, height))\n",
    "print(\"我的名字是 {} !我 {} 岁了，我 {} 米高~\".format(name, age, height))"
   ]
  },
  {
   "cell_type": "code",
   "execution_count": null,
   "metadata": {},
   "outputs": [],
   "source": [
    "name = \"Moguw\"\n",
    "age = 19\n",
    "height = 1.78\n",
    "print(\"我的名字是 {0} !我 {1} 岁了，我 {2} 米高~我是{0}\".format(name, age, height))"
   ]
  },
  {
   "cell_type": "code",
   "execution_count": null,
   "metadata": {},
   "outputs": [],
   "source": [
    "name = \"Moguw\"\n",
    "age = 19\n",
    "height = 1.78\n",
    "print(\"我的名字是 {nm} !我 {age} 岁了，我 {ht} 米高~我是{nm}\".format(nm=name, age=age, ht=height))\n"
   ]
  },
  {
   "cell_type": "code",
   "execution_count": null,
   "metadata": {},
   "outputs": [],
   "source": [
    "txt = \"You scored {:%}\"\n",
    "print(txt.format(2.1234))\n",
    "\n",
    "txt = \"You scored {:.2%}\"\n",
    "print(txt.format(2.1234))"
   ]
  },
  {
   "cell_type": "code",
   "execution_count": null,
   "metadata": {},
   "outputs": [],
   "source": [
    "name = \"Moguw\"\n",
    "age = 19\n",
    "height = 1.78\n",
    "print(f\"我的名字是 {name} !我 {age} 岁了，我 {height} 米高~\")"
   ]
  },
  {
   "cell_type": "code",
   "execution_count": null,
   "metadata": {},
   "outputs": [],
   "source": [
    "score = 2.1234\n",
    "print(f\"You scored {score:.2%}\")\n",
    "print(f\"You scored {score:.3f}\")\n",
    "print(f\"You scored {12:5d}\")\n"
   ]
  },
  {
   "cell_type": "code",
   "execution_count": null,
   "metadata": {},
   "outputs": [],
   "source": [
    "\"  我不想要前后的空白，但是  中间\\n的可以有\\n  \".strip()"
   ]
  },
  {
   "cell_type": "code",
   "execution_count": null,
   "metadata": {},
   "outputs": [],
   "source": [
    "\"帮我替换掉Moguw\".replace(\"Moguw\", \"Mieluo\")"
   ]
  },
  {
   "cell_type": "code",
   "execution_count": null,
   "metadata": {},
   "outputs": [],
   "source": [
    "print(\"How ABOUT lower CaSe?\".lower())\n",
    "print(\"And upper CaSe?\".upper())\n",
    "print(\"do tiTle For me\".title())"
   ]
  },
  {
   "cell_type": "code",
   "execution_count": null,
   "metadata": {},
   "outputs": [],
   "source": [
    "print(\"你|帮|我|拆分|一下|这句话\".split(\"|\"))\n",
    "print(\"|\".join([\"你\",\"帮\", \"我\", \"重组\", \"一下\", \"这句话\"]))"
   ]
  },
  {
   "cell_type": "code",
   "execution_count": null,
   "metadata": {},
   "outputs": [],
   "source": [
    "print(\"我在街头看到你\".startswith(\"我在\"))\n",
    "print(\"我在街头看到你\".startswith(\"街头\"))\n",
    "print(\"我在巷尾看到你\".endswith(\"看到你\"))\n",
    "print(\"我在巷尾看到你\".endswith(\"巷尾\"))\n"
   ]
  }
 ],
 "metadata": {
  "interpreter": {
   "hash": "61d9e465b1545c1ab2df2e4a6ae97baa909db551982c93e87fe1863f7d12684a"
  },
  "kernelspec": {
   "display_name": "Python 3.10.1 64-bit",
   "language": "python",
   "name": "python3"
  },
  "language_info": {
   "codemirror_mode": {
    "name": "ipython",
    "version": 3
   },
   "file_extension": ".py",
   "mimetype": "text/x-python",
   "name": "python",
   "nbconvert_exporter": "python",
   "pygments_lexer": "ipython3",
   "version": "3.10.1"
  },
  "orig_nbformat": 4
 },
 "nbformat": 4,
 "nbformat_minor": 2
}
