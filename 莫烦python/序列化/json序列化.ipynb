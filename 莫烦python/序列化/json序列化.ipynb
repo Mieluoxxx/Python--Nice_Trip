{
 "cells": [
  {
   "cell_type": "code",
   "execution_count": null,
   "metadata": {},
   "outputs": [],
   "source": [
    "import pickle\n",
    "data = {\"filename\": \"f1.txt\", \"create_time\": \"today\", \"size\": 111}\n",
    "with open(\"data.pkl\", \"wb\") as f:\n",
    "    pickle.dump(data, f)\n",
    "\n",
    "import os\n",
    "os.listdir()\n"
   ]
  },
  {
   "cell_type": "code",
   "execution_count": null,
   "metadata": {},
   "outputs": [],
   "source": [
    "with open(\"data.pkl\", \"rb\") as f:\n",
    "    data = pickle.load(f)\n",
    "print(data)"
   ]
  },
  {
   "cell_type": "code",
   "execution_count": null,
   "metadata": {},
   "outputs": [],
   "source": [
    "class File:\n",
    "    def __init__(self, name, create_time, size):\n",
    "        self.name = name\n",
    "        self.create_time = create_time\n",
    "        self.size = size\n",
    "    \n",
    "    def change_name(self, new_name):\n",
    "        self.name = new_name\n",
    "\n",
    "data = File(\"f2.txt\", \"now\", 222)\n",
    "# 存\n",
    "with open(\"data.pkl\", \"wb\") as f:\n",
    "    pickle.dump(data, f)\n",
    "# 读\n",
    "with open(\"data.pkl\", \"rb\") as f:\n",
    "    read_data = pickle.load(f)\n",
    "print(read_data.name)\n",
    "print(read_data.size)\n"
   ]
  },
  {
   "cell_type": "code",
   "execution_count": null,
   "metadata": {},
   "outputs": [],
   "source": [
    "import json\n",
    "\n",
    "data = {\"filename\": \"f1.txt\", \"create_time\": \"today\", \"size\": 111}\n",
    "j = json.dumps(data)\n",
    "print(j)\n",
    "print(type(j))"
   ]
  },
  {
   "cell_type": "code",
   "execution_count": null,
   "metadata": {},
   "outputs": [],
   "source": [
    "data = {\"filename\": \"f1.txt\", \"create_time\": \"today\", \"size\": 111}\n",
    "with open(\"data.json\", \"w\") as f:\n",
    "    json.dump(data, f)\n",
    "\n",
    "print(\"直接当纯文本读：\")\n",
    "with open(\"data.json\", \"r\") as f:\n",
    "    print(f.read())\n",
    "\n",
    "print(\"用 json 加载了读：\")\n",
    "with open(\"data.json\", \"r\") as f:\n",
    "    new_data = json.load(f)\n",
    "print(\"字典读取：\", new_data[\"filename\"])"
   ]
  }
 ],
 "metadata": {
  "interpreter": {
   "hash": "61d9e465b1545c1ab2df2e4a6ae97baa909db551982c93e87fe1863f7d12684a"
  },
  "kernelspec": {
   "display_name": "Python 3.10.1 64-bit",
   "language": "python",
   "name": "python3"
  },
  "language_info": {
   "codemirror_mode": {
    "name": "ipython",
    "version": 3
   },
   "file_extension": ".py",
   "mimetype": "text/x-python",
   "name": "python",
   "nbconvert_exporter": "python",
   "pygments_lexer": "ipython3",
   "version": "3.10.1"
  },
  "orig_nbformat": 4
 },
 "nbformat": 4,
 "nbformat_minor": 2
}
