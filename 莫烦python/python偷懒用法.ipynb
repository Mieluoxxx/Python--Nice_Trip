{
 "cells": [
  {
   "cell_type": "code",
   "execution_count": 1,
   "metadata": {},
   "outputs": [
    {
     "name": "stdout",
     "output_type": "stream",
     "text": [
      "3\n"
     ]
    }
   ],
   "source": [
    "def add(a, b):\n",
    "    return a + b\n",
    "\n",
    "print(add(1,2))\n"
   ]
  },
  {
   "cell_type": "code",
   "execution_count": 2,
   "metadata": {},
   "outputs": [
    {
     "name": "stdout",
     "output_type": "stream",
     "text": [
      "3\n"
     ]
    }
   ],
   "source": [
    "add = lambda a, b: a+b\n",
    "print(add(1,2))\n"
   ]
  },
  {
   "cell_type": "code",
   "execution_count": 3,
   "metadata": {},
   "outputs": [
    {
     "name": "stdout",
     "output_type": "stream",
     "text": [
      "[0, 2, 4, 6, 8, 10, 12, 14, 16, 18]\n"
     ]
    }
   ],
   "source": [
    "l = []\n",
    "for i in range(10):\n",
    "    l.append(i*2)\n",
    "print(l)\n"
   ]
  },
  {
   "cell_type": "code",
   "execution_count": 4,
   "metadata": {},
   "outputs": [
    {
     "name": "stdout",
     "output_type": "stream",
     "text": [
      "[0, 2, 4, 6, 8, 10, 12, 14, 16, 18]\n"
     ]
    }
   ],
   "source": [
    "l = [i*2 for i in range(10)]\n",
    "print(l)\n"
   ]
  },
  {
   "cell_type": "code",
   "execution_count": 5,
   "metadata": {},
   "outputs": [
    {
     "name": "stdout",
     "output_type": "stream",
     "text": [
      "{'index0': 0, 'index1': 2, 'index2': 4, 'index3': 6, 'index4': 8, 'index5': 10, 'index6': 12, 'index7': 14, 'index8': 16, 'index9': 18}\n"
     ]
    }
   ],
   "source": [
    "d = {\"index\"+str(i): i*2 for i in range(10)}\n",
    "print(d)\n"
   ]
  },
  {
   "cell_type": "code",
   "execution_count": 6,
   "metadata": {},
   "outputs": [
    {
     "name": "stdout",
     "output_type": "stream",
     "text": [
      "2\n"
     ]
    }
   ],
   "source": [
    "done = False\n",
    "if done:\n",
    "    a = 1\n",
    "else:\n",
    "    a = 2\n",
    "print(a)\n"
   ]
  },
  {
   "cell_type": "code",
   "execution_count": 7,
   "metadata": {},
   "outputs": [
    {
     "name": "stdout",
     "output_type": "stream",
     "text": [
      "2\n"
     ]
    }
   ],
   "source": [
    "done = False\n",
    "a = 1 if done else 2\n",
    "print(a)\n"
   ]
  },
  {
   "cell_type": "code",
   "execution_count": 8,
   "metadata": {},
   "outputs": [
    {
     "name": "stdout",
     "output_type": "stream",
     "text": [
      "[0, 4, 8, 12, 16]\n"
     ]
    }
   ],
   "source": [
    "l = []\n",
    "for i in range(10):\n",
    "    if i % 2 == 0:\n",
    "        l.append(i*2)\n",
    "print(l)"
   ]
  },
  {
   "cell_type": "code",
   "execution_count": 10,
   "metadata": {},
   "outputs": [
    {
     "name": "stdout",
     "output_type": "stream",
     "text": [
      "[0, 4, 8, 12, 16]\n"
     ]
    }
   ],
   "source": [
    "l = [i*2 for i in range(10) if i % 2 == 0]\n",
    "print(l)"
   ]
  },
  {
   "cell_type": "code",
   "execution_count": 13,
   "metadata": {},
   "outputs": [
    {
     "name": "stdout",
     "output_type": "stream",
     "text": [
      "{'index0': 0, 'index2': 4, 'index4': 8, 'index6': 12, 'index8': 16}\n"
     ]
    }
   ],
   "source": [
    "d = {\"index\"+str(i): i*2 for i in range(10) if i % 2 == 0}\n",
    "print(d)"
   ]
  },
  {
   "cell_type": "code",
   "execution_count": 1,
   "metadata": {},
   "outputs": [
    {
     "name": "stdout",
     "output_type": "stream",
     "text": [
      "[11, 22, 44, 44]\n"
     ]
    }
   ],
   "source": [
    "count = 0\n",
    "l = [11,22,33,44]\n",
    "for data in l:\n",
    "    if count == 2:\n",
    "        data += 11\n",
    "    l[count] = data\n",
    "    count += 1\n",
    "print(l)\n"
   ]
  },
  {
   "cell_type": "code",
   "execution_count": 2,
   "metadata": {},
   "outputs": [
    {
     "name": "stdout",
     "output_type": "stream",
     "text": [
      "[11, 22, 44, 44]\n"
     ]
    }
   ],
   "source": [
    "l = [11,22,33,44]\n",
    "for count, data in enumerate(l):\n",
    "    if count == 2:\n",
    "        data += 11\n",
    "    l[count] = data\n",
    "print(l)\n"
   ]
  },
  {
   "cell_type": "code",
   "execution_count": 3,
   "metadata": {},
   "outputs": [
    {
     "name": "stdout",
     "output_type": "stream",
     "text": [
      "{5: 11, 6: 22, 7: 33, 8: 44}\n"
     ]
    }
   ],
   "source": [
    "l = [11,22,33,44]\n",
    "d = {}\n",
    "for count, data in enumerate(l, start=5):\n",
    "    d[count] = data\n",
    "print(d)\n"
   ]
  },
  {
   "cell_type": "code",
   "execution_count": 4,
   "metadata": {},
   "outputs": [
    {
     "name": "stdout",
     "output_type": "stream",
     "text": [
      "{'a': 1, 'b': 2, 'c': 3}\n"
     ]
    }
   ],
   "source": [
    "name = [\"a\", \"b\", \"c\"]\n",
    "score = [1,2,3]\n",
    "d = {}\n",
    "for n, s in zip(name, score):\n",
    "    d[n]=s\n",
    "print(d)\n"
   ]
  },
  {
   "cell_type": "code",
   "execution_count": null,
   "metadata": {},
   "outputs": [],
   "source": [
    "name = [\"a\", \"b\", \"c\"]\n",
    "score = [1,2,3]\n",
    "bonus = [1,0,1]\n",
    "d = {}\n",
    "for n, s, b in zip(name, score, bonus):\n",
    "    d[n]=s+b\n",
    "print(d)\n"
   ]
  },
  {
   "cell_type": "code",
   "execution_count": 5,
   "metadata": {},
   "outputs": [
    {
     "name": "stdout",
     "output_type": "stream",
     "text": [
      "[3, 2, 1]\n"
     ]
    }
   ],
   "source": [
    "l = [1,2,3]\n",
    "_l = [l[-i-1] for i in range(len(l))]\n",
    "print(_l)\n"
   ]
  },
  {
   "cell_type": "code",
   "execution_count": null,
   "metadata": {},
   "outputs": [],
   "source": [
    "l = [1,2,3]\n",
    "l.reverse()\n",
    "print(l)"
   ]
  },
  {
   "cell_type": "code",
   "execution_count": 6,
   "metadata": {},
   "outputs": [
    {
     "name": "stdout",
     "output_type": "stream",
     "text": [
      "我要扔出去一个 item=0 了\n",
      "我在外面接到了一个 item=0\n",
      "\n",
      "我又回到里面了\n",
      "我要扔出去一个 item=2 了\n",
      "我在外面接到了一个 item=2\n",
      "\n",
      "我又回到里面了\n",
      "我要扔出去一个 item=4 了\n",
      "我在外面接到了一个 item=4\n",
      "\n",
      "我又回到里面了\n"
     ]
    }
   ],
   "source": [
    "def need_return():\n",
    "    for item in range(5):\n",
    "        if item % 2 == 0:\n",
    "            print(\"我要扔出去一个 item=%d 了\" % item)\n",
    "            yield item  # 这里就会返回给下面的 for 循环\n",
    "            print(\"我又回到里面了\")\n",
    "\n",
    "for i in need_return():\n",
    "    print(\"我在外面接到了一个 item=%d\\n\" % i)\n"
   ]
  }
 ],
 "metadata": {
  "interpreter": {
   "hash": "61d9e465b1545c1ab2df2e4a6ae97baa909db551982c93e87fe1863f7d12684a"
  },
  "kernelspec": {
   "display_name": "Python 3.10.1 64-bit",
   "language": "python",
   "name": "python3"
  },
  "language_info": {
   "codemirror_mode": {
    "name": "ipython",
    "version": 3
   },
   "file_extension": ".py",
   "mimetype": "text/x-python",
   "name": "python",
   "nbconvert_exporter": "python",
   "pygments_lexer": "ipython3",
   "version": "3.10.1"
  },
  "orig_nbformat": 4
 },
 "nbformat": 4,
 "nbformat_minor": 2
}
