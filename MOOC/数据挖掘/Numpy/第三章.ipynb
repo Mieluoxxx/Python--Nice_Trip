{
 "cells": [
  {
   "cell_type": "code",
   "execution_count": 1,
   "metadata": {},
   "outputs": [
    {
     "ename": "FileNotFoundError",
     "evalue": "[Errno 2] No such file or directory: 'Numpy/beijing.jpg'",
     "output_type": "error",
     "traceback": [
      "\u001b[0;31m---------------------------------------------------------------------------\u001b[0m",
      "\u001b[0;31mFileNotFoundError\u001b[0m                         Traceback (most recent call last)",
      "\u001b[1;32m/Users/moguw/Desktop/GitHub/Python--Nice_Trip/MOOC/数据挖掘/Numpy/第三章.ipynb Cell 1'\u001b[0m in \u001b[0;36m<cell line: 3>\u001b[0;34m()\u001b[0m\n\u001b[1;32m      <a href='vscode-notebook-cell:/Users/moguw/Desktop/GitHub/Python--Nice_Trip/MOOC/%E6%95%B0%E6%8D%AE%E6%8C%96%E6%8E%98/Numpy/%E7%AC%AC%E4%B8%89%E7%AB%A0.ipynb#ch0000000?line=0'>1</a>\u001b[0m \u001b[39mfrom\u001b[39;00m \u001b[39mPIL\u001b[39;00m \u001b[39mimport\u001b[39;00m Image\n\u001b[1;32m      <a href='vscode-notebook-cell:/Users/moguw/Desktop/GitHub/Python--Nice_Trip/MOOC/%E6%95%B0%E6%8D%AE%E6%8C%96%E6%8E%98/Numpy/%E7%AC%AC%E4%B8%89%E7%AB%A0.ipynb#ch0000000?line=1'>2</a>\u001b[0m \u001b[39mimport\u001b[39;00m \u001b[39mnumpy\u001b[39;00m \u001b[39mas\u001b[39;00m \u001b[39mnp\u001b[39;00m \n\u001b[0;32m----> <a href='vscode-notebook-cell:/Users/moguw/Desktop/GitHub/Python--Nice_Trip/MOOC/%E6%95%B0%E6%8D%AE%E6%8C%96%E6%8E%98/Numpy/%E7%AC%AC%E4%B8%89%E7%AB%A0.ipynb#ch0000000?line=2'>3</a>\u001b[0m im \u001b[39m=\u001b[39m np\u001b[39m.\u001b[39marray(Image\u001b[39m.\u001b[39;49mopen(\u001b[39m\"\u001b[39;49m\u001b[39mNumpy/beijing.jpg\u001b[39;49m\u001b[39m\"\u001b[39;49m))\n\u001b[1;32m      <a href='vscode-notebook-cell:/Users/moguw/Desktop/GitHub/Python--Nice_Trip/MOOC/%E6%95%B0%E6%8D%AE%E6%8C%96%E6%8E%98/Numpy/%E7%AC%AC%E4%B8%89%E7%AB%A0.ipynb#ch0000000?line=3'>4</a>\u001b[0m \u001b[39mprint\u001b[39m(im\u001b[39m.\u001b[39mshape, im\u001b[39m.\u001b[39mdtyde)\n",
      "File \u001b[0;32m~/opt/anaconda3/envs/test1/lib/python3.10/site-packages/PIL/Image.py:3068\u001b[0m, in \u001b[0;36mopen\u001b[0;34m(fp, mode, formats)\u001b[0m\n\u001b[1;32m   <a href='file:///Users/moguw/opt/anaconda3/envs/test1/lib/python3.10/site-packages/PIL/Image.py?line=3064'>3065</a>\u001b[0m     filename \u001b[39m=\u001b[39m fp\n\u001b[1;32m   <a href='file:///Users/moguw/opt/anaconda3/envs/test1/lib/python3.10/site-packages/PIL/Image.py?line=3066'>3067</a>\u001b[0m \u001b[39mif\u001b[39;00m filename:\n\u001b[0;32m-> <a href='file:///Users/moguw/opt/anaconda3/envs/test1/lib/python3.10/site-packages/PIL/Image.py?line=3067'>3068</a>\u001b[0m     fp \u001b[39m=\u001b[39m builtins\u001b[39m.\u001b[39;49mopen(filename, \u001b[39m\"\u001b[39;49m\u001b[39mrb\u001b[39;49m\u001b[39m\"\u001b[39;49m)\n\u001b[1;32m   <a href='file:///Users/moguw/opt/anaconda3/envs/test1/lib/python3.10/site-packages/PIL/Image.py?line=3068'>3069</a>\u001b[0m     exclusive_fp \u001b[39m=\u001b[39m \u001b[39mTrue\u001b[39;00m\n\u001b[1;32m   <a href='file:///Users/moguw/opt/anaconda3/envs/test1/lib/python3.10/site-packages/PIL/Image.py?line=3070'>3071</a>\u001b[0m \u001b[39mtry\u001b[39;00m:\n",
      "\u001b[0;31mFileNotFoundError\u001b[0m: [Errno 2] No such file or directory: 'Numpy/beijing.jpg'"
     ]
    }
   ],
   "source": [
    "from PIL import Image\n",
    "import numpy as np \n",
    "im = np.array(Image.open(\"Numpy/beijing.jpg\"))\n",
    "print(im.shape, im.dtyde)"
   ]
  }
 ],
 "metadata": {
  "interpreter": {
   "hash": "5b5f2a809d9ddf0f4016703f1d3b4e0ca392c1f395ba2072548daf5a145aa661"
  },
  "kernelspec": {
   "display_name": "Python 3.10.4 ('test1')",
   "language": "python",
   "name": "python3"
  },
  "language_info": {
   "codemirror_mode": {
    "name": "ipython",
    "version": 3
   },
   "file_extension": ".py",
   "mimetype": "text/x-python",
   "name": "python",
   "nbconvert_exporter": "python",
   "pygments_lexer": "ipython3",
   "version": "3.10.4"
  },
  "orig_nbformat": 4
 },
 "nbformat": 4,
 "nbformat_minor": 2
}
