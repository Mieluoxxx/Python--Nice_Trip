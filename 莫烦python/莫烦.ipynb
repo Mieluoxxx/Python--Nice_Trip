{
 "cells": [
  {
   "cell_type": "code",
   "execution_count": null,
   "metadata": {},
   "outputs": [],
   "source": [
    "def f(x, a=1, b=1, c=0):\n",
    "    return a*x**2 + b*x + c*1\n",
    "\n",
    "print(f(2, a=2))\n",
    "print(f(2))\n"
   ]
  },
  {
   "cell_type": "code",
   "execution_count": 1,
   "metadata": {},
   "outputs": [
    {
     "name": "stdout",
     "output_type": "stream",
     "text": [
      "local filename: f2.txt\n",
      "global filename: f2.txt\n"
     ]
    }
   ],
   "source": [
    "filename = \"f1.txt\"\n",
    "def modify_name():\n",
    "    global filename  # 提出申请\n",
    "    filename = \"f2.txt\"\n",
    "    print(\"local filename:\", filename)\n",
    "modify_name()\n",
    "print(\"global filename:\", filename)  \n"
   ]
  },
  {
   "cell_type": "code",
   "execution_count": 3,
   "metadata": {},
   "outputs": [
    {
     "name": "stdout",
     "output_type": "stream",
     "text": [
      "f1\n",
      "today\n",
      "new_name\n"
     ]
    }
   ],
   "source": [
    "class File:\n",
    "    def __init__(self):\n",
    "        self.name = \"f1\"\n",
    "        self.create_time = \"today\"\n",
    "\n",
    "my_file = File()\n",
    "print(my_file.name)\n",
    "print(my_file.create_time)\n",
    "\n",
    "my_file.name = \"new_name\"\n",
    "print(my_file.name)\n"
   ]
  },
  {
   "cell_type": "code",
   "execution_count": 4,
   "metadata": {},
   "outputs": [
    {
     "name": "stdout",
     "output_type": "stream",
     "text": [
      "my_file\n",
      "today\n"
     ]
    }
   ],
   "source": [
    "class File:\n",
    "    def __init__(self, name, create_time=\"today\"):\n",
    "        self.name = name\n",
    "        self.create_time = create_time\n",
    "my_file = File(\"my_file\")\n",
    "print(my_file.name)\n",
    "print(my_file.create_time)"
   ]
  },
  {
   "cell_type": "code",
   "execution_count": 7,
   "metadata": {},
   "outputs": [
    {
     "name": "stdout",
     "output_type": "stream",
     "text": [
      "new_name\n"
     ]
    }
   ],
   "source": [
    "class File:\n",
    "    def __init__(self, name, create_time=\"today\"):\n",
    "        self.name = name\n",
    "        self.create_time = create_time\n",
    "    def change_name(self, new_name):\n",
    "        self.name = new_name\n",
    "\n",
    "my_file = File(\"my_file\")\n",
    "# 调用实力中，类的功能\n",
    "my_file.change_name(\"new_name\")\n",
    "print(my_file.name)"
   ]
  },
  {
   "cell_type": "code",
   "execution_count": 4,
   "metadata": {},
   "outputs": [
    {
     "name": "stdout",
     "output_type": "stream",
     "text": [
      "my_file is created at today\n"
     ]
    }
   ],
   "source": [
    "class File:\n",
    "    def __init__(self, name, create_time=\"today\"):\n",
    "        self.name = name\n",
    "        self.create_time = create_time\n",
    "        \n",
    "    def get_info(self):\n",
    "        return self.name + \" is created at \" + self.create_time\n",
    "\n",
    "my_file = File(\"my_file\")\n",
    "print(my_file.get_info())"
   ]
  },
  {
   "cell_type": "code",
   "execution_count": 6,
   "metadata": {},
   "outputs": [
    {
     "name": "stdout",
     "output_type": "stream",
     "text": [
      "my_video is created at today\n",
      "today\n",
      "zh-cn\n",
      "my_text is created at today, using language of zh-cn\n"
     ]
    }
   ],
   "source": [
    "class File:\n",
    "    def __init__(self, name, create_time=\"today\"):\n",
    "        self.name = name\n",
    "        self.create_time = create_time\n",
    "    \n",
    "    def get_info(self):\n",
    "        return self.name + \" is created at \" + self.create_time\n",
    "\n",
    "class Video(File):  # 继承了 File 的属性和功能\n",
    "    def __init__(self, name, window_size=(1080, 720)):\n",
    "        # 将共用属性的设置导入 File 父类\n",
    "        super().__init__(name=name, create_time=\"today\") \n",
    "        self.window_size = window_size\n",
    "\n",
    "class Text(File): # 继承了 File 的属性和功能\n",
    "    def __init__(self, name, language=\"zh-cn\"):\n",
    "        # 将共用属性的设置导入 File 父类\n",
    "        super().__init__(name=name, create_time=\"today\") \n",
    "        self.language = language\n",
    "    \n",
    "    # 也可以在子类里复用父类功能\n",
    "    def get_more_info(self):\n",
    "        return self.get_info() + \", using language of \" + self.language\n",
    "\n",
    "v = Video(\"my_video\")\n",
    "t = Text(\"my_text\")\n",
    "print(v.get_info())     # 调用父类的功能\n",
    "print(t.create_time)    # 调用父类的属性\n",
    "print(t.language)       # 调用自己的属性\n",
    "print(t.get_more_info()) # 调用自己加工父类的功能"
   ]
  },
  {
   "cell_type": "code",
   "execution_count": null,
   "metadata": {},
   "outputs": [],
   "source": [
    "class File:\n",
    "    def __init__(self):\n",
    "        self.name = \"f1\"\n",
    "        self.__deleted = False  # 我不让别人用这个变量\n",
    "        self._type = \"txt\"      # 我不想别人使用这个变量\n",
    "    \n",
    "    def delete(self):\n",
    "        self.__force_delete()\n",
    "    \n",
    "    def __force_delete(self):  # 我不让别人使用这个功能\n",
    "        self.__deleted = True\n",
    "        return True\n",
    "        \n",
    "    def _soft_delete(self):     # 我不想让别人使用这个功能\n",
    "        self.__force_delete()   # 我自己可以在内部随便调用\n",
    "        return True\n",
    "\n",
    "f = File()\n",
    "print(f._type)      # 可以拿到值，但是这个类的作者不想让你直接这样拿到\n",
    "print(f._soft_delete())  # 可以调用，但是这个类的作者不想让你直接调用\n",
    "\n",
    "# 接下来的两个实验都会报错\n",
    "# f.__deleted\n",
    "# f.__force_delete()\n"
   ]
  }
 ],
 "metadata": {
  "interpreter": {
   "hash": "ad7cc200adf919fc011f81122d2e97048db8e85ea54fb32398166ca640bf2a69"
  },
  "kernelspec": {
   "display_name": "Python 3.9.7 ('base')",
   "language": "python",
   "name": "python3"
  },
  "language_info": {
   "codemirror_mode": {
    "name": "ipython",
    "version": 3
   },
   "file_extension": ".py",
   "mimetype": "text/x-python",
   "name": "python",
   "nbconvert_exporter": "python",
   "pygments_lexer": "ipython3",
   "version": "3.9.7"
  },
  "orig_nbformat": 4
 },
 "nbformat": 4,
 "nbformat_minor": 2
}
