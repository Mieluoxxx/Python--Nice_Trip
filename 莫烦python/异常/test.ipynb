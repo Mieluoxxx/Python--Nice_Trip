{
 "cells": [
  {
   "cell_type": "code",
   "execution_count": null,
   "metadata": {},
   "outputs": [],
   "source": [
    "try:\n",
    "    with open(\"no_file.txt\", \"r\") as f:\n",
    "        print(f.read())\n",
    "except FileNotFoundError as e:\n",
    "    print(e)\n",
    "    with open(\"no_file.txt\", \"w\") as f:\n",
    "        f.write(\"I'm no_file.txt\")\n",
    "    print(\"new file 'no_file.txt' has been written\")\n"
   ]
  },
  {
   "cell_type": "code",
   "execution_count": null,
   "metadata": {},
   "outputs": [],
   "source": [
    "d = {\"name\": \"f1\", \"age\": 2}\n",
    "l = [1,2,3]\n",
    "try:\n",
    "    v = d[\"gender\"]\n",
    "    l[3] = 4\n",
    "except KeyError as e:\n",
    "    print(\"key error for:\", e)\n",
    "    d[\"gender\"] = \"x\"\n",
    "except IndexError as e:\n",
    "    print(\"index error for:\", e)\n",
    "    l.append(4)\n",
    "print(d)\n",
    "print(l)"
   ]
  },
  {
   "cell_type": "code",
   "execution_count": null,
   "metadata": {},
   "outputs": [],
   "source": [
    "l = [1,2,3]\n",
    "try:\n",
    "    l[3] = 4\n",
    "except IndexError as e:\n",
    "    print(e)\n",
    "else:\n",
    "    print(\"no error, now in else\")\n"
   ]
  },
  {
   "cell_type": "code",
   "execution_count": null,
   "metadata": {},
   "outputs": [],
   "source": [
    "l = [1,2,3,4]\n",
    "try:\n",
    "    l[3] = 4\n",
    "except IndexError as e:\n",
    "    print(e)\n",
    "else:\n",
    "    print(\"no error, now in else\")"
   ]
  },
  {
   "cell_type": "code",
   "execution_count": null,
   "metadata": {},
   "outputs": [],
   "source": [
    "l = [1,2,3,4]\n",
    "try:\n",
    "    l[3] = 4\n",
    "except IndexError as e:\n",
    "    print(e)\n",
    "else:\n",
    "    print(\"no error, now in else\")"
   ]
  },
  {
   "cell_type": "code",
   "execution_count": null,
   "metadata": {},
   "outputs": [],
   "source": [
    "def no_negative(num):\n",
    "    if num < 0:\n",
    "        raise ValueError(\"I said no negative\")\n",
    "    return num\n",
    "\n",
    "print(no_negative(-1))\n"
   ]
  }
 ],
 "metadata": {
  "interpreter": {
   "hash": "61d9e465b1545c1ab2df2e4a6ae97baa909db551982c93e87fe1863f7d12684a"
  },
  "kernelspec": {
   "display_name": "Python 3.10.1 64-bit",
   "language": "python",
   "name": "python3"
  },
  "language_info": {
   "codemirror_mode": {
    "name": "ipython",
    "version": 3
   },
   "file_extension": ".py",
   "mimetype": "text/x-python",
   "name": "python",
   "nbconvert_exporter": "python",
   "pygments_lexer": "ipython3",
   "version": "3.10.1"
  },
  "orig_nbformat": 4
 },
 "nbformat": 4,
 "nbformat_minor": 2
}
